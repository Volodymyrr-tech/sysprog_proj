{
 "cells": [
  {
   "cell_type": "code",
   "execution_count": 1,
   "metadata": {},
   "outputs": [
    {
     "name": "stdout",
     "output_type": "stream",
     "text": [
      "[3, 9, 10, 27, 38, 43, 82]\n"
     ]
    }
   ],
   "source": [
    "def merge_sort(arr):\n",
    "    if len(arr) <= 1:\n",
    "        return arr\n",
    "\n",
    "    mid = len(arr) // 2\n",
    "    left_half = arr[:mid]\n",
    "    right_half = arr[mid:]\n",
    "\n",
    "    return merge(merge_sort(left_half), merge_sort(right_half))\n",
    "\n",
    "\n",
    "def merge(left, right):\n",
    "    merged = []\n",
    "    left_index = 0\n",
    "    right_index = 0\n",
    "\n",
    "    while left_index < len(left) and right_index < len(right):\n",
    "        if left[left_index] <= right[right_index]:\n",
    "            merged.append(left[left_index])\n",
    "            left_index += 1\n",
    "        else:\n",
    "            merged.append(right[right_index])\n",
    "            right_index += 1\n",
    "\n",
    "    merged.extend(left[left_index:])\n",
    "    merged.extend(right[right_index:])\n",
    "\n",
    "    return merged\n",
    "\n",
    "\n",
    "arr = [38, 27, 43, 3, 9, 82, 10]\n",
    "sorted_arr = merge_sort(arr)\n",
    "print(sorted_arr)"
   ]
  },
  {
   "cell_type": "code",
   "execution_count": 2,
   "metadata": {},
   "outputs": [
    {
     "name": "stdout",
     "output_type": "stream",
     "text": [
      "Element found at index 4\n"
     ]
    }
   ],
   "source": [
    "def interpolation_search(arr, x):\n",
    "    low = 0\n",
    "    high = len(arr) - 1\n",
    "\n",
    "    while low <= high and x >= arr[low] and x <= arr[high]:\n",
    "        if low == high:\n",
    "            if arr[low] == x:\n",
    "                return low\n",
    "            return -1\n",
    "\n",
    "        pos = low + ((high - low) // (arr[high] - arr[low]) * (x - arr[low]))\n",
    "\n",
    "        if arr[pos] == x:\n",
    "            return pos\n",
    "\n",
    "        if arr[pos] < x:\n",
    "            low = pos + 1\n",
    "\n",
    "        else:\n",
    "            high = pos - 1\n",
    "\n",
    "    return -1\n",
    "\n",
    "\n",
    "arr = [10, 12, 13, 16, 18, 19, 20, 21, 22, 23, 24, 33, 35, 42, 47]\n",
    "x = 18\n",
    "index = interpolation_search(arr, x)\n",
    "if index != -1:\n",
    "    print(\"Element found at index\", index)\n",
    "else:\n",
    "    print(\"Element not found in array\")"
   ]
  },
  {
   "cell_type": "code",
   "execution_count": 3,
   "metadata": {},
   "outputs": [
    {
     "name": "stdout",
     "output_type": "stream",
     "text": [
      "4\n"
     ]
    }
   ],
   "source": [
    "def count_friends_pairs(n):\n",
    "    dp = [0 for i in range(n + 1)]\n",
    "    for i in range(n + 1):\n",
    "        if i <= 2:\n",
    "            dp[i] = i\n",
    "        else:\n",
    "            dp[i] = dp[i - 1] + (i - 1) * dp[i - 2]\n",
    "    return dp[n]\n",
    "\n",
    "\n",
    "n = 3\n",
    "print(count_friends_pairs(n))"
   ]
  },
  {
   "cell_type": "code",
   "execution_count": 4,
   "metadata": {},
   "outputs": [
    {
     "name": "stdout",
     "output_type": "stream",
     "text": [
      "{'A': 0, 'B': 1, 'C': 3, 'D': 4}\n"
     ]
    }
   ],
   "source": [
    "import sys\n",
    "\n",
    "\n",
    "def dijkstra(graph, start_vertex):\n",
    "    D = {v: float('inf') for v in graph}\n",
    "    D[start_vertex] = 0\n",
    "\n",
    "    unvisited = list(graph)\n",
    "\n",
    "    while unvisited:\n",
    "        current_vertex = min(unvisited, key=D.get)\n",
    "        unvisited.remove(current_vertex)\n",
    "\n",
    "        for neighbour, weight in graph[current_vertex].items():\n",
    "            old_cost = D[neighbour]\n",
    "            new_cost = D[current_vertex] + weight\n",
    "            if new_cost < old_cost:\n",
    "                D[neighbour] = new_cost\n",
    "\n",
    "    return D\n",
    "\n",
    "\n",
    "graph = {\n",
    "    'A': {\n",
    "        'B': 1,\n",
    "        'C': 4\n",
    "    },\n",
    "    'B': {\n",
    "        'A': 1,\n",
    "        'C': 2,\n",
    "        'D': 5\n",
    "    },\n",
    "    'C': {\n",
    "        'A': 4,\n",
    "        'B': 2,\n",
    "        'D': 1\n",
    "    },\n",
    "    'D': {\n",
    "        'B': 5,\n",
    "        'C': 1\n",
    "    }\n",
    "}\n",
    "print(dijkstra(graph, 'A'))"
   ]
  },
  {
   "cell_type": "code",
   "execution_count": 5,
   "metadata": {},
   "outputs": [
    {
     "name": "stdout",
     "output_type": "stream",
     "text": [
      "Egyptian Fraction Representation of 6/14 is: 1/3 + 1/11 + 1/231\n"
     ]
    }
   ],
   "source": [
    "import math\n",
    "\n",
    "\n",
    "def egyptian_fraction(nr, dr):\n",
    "    ef = []\n",
    "    while nr != 0:\n",
    "        x = math.ceil(dr / nr)\n",
    "        ef.append(x)\n",
    "        nr = x * nr - dr\n",
    "        dr = dr * x\n",
    "    return ef\n",
    "\n",
    "\n",
    "nr = 6\n",
    "dr = 14\n",
    "ef = egyptian_fraction(nr, dr)\n",
    "print(\"Egyptian Fraction Representation of {}/{} is: {}\".format(\n",
    "    nr, dr, \" + \".join([\"1/{}\".format(i) for i in ef])))"
   ]
  }
 ],
 "metadata": {
  "kernelspec": {
   "display_name": "Python 3",
   "language": "python",
   "name": "python3"
  },
  "language_info": {
   "codemirror_mode": {
    "name": "ipython",
    "version": 3
   },
   "file_extension": ".py",
   "mimetype": "text/x-python",
   "name": "python",
   "nbconvert_exporter": "python",
   "pygments_lexer": "ipython3",
   "version": "3.10.8"
  }
 },
 "nbformat": 4,
 "nbformat_minor": 2
}
